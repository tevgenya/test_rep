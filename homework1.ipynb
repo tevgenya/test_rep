{
 "cells": [
  {
   "cell_type": "code",
   "execution_count": 2,
   "metadata": {},
   "outputs": [
    {
     "name": "stdout",
     "output_type": "stream",
     "text": [
      "Фразы равной длины\n"
     ]
    }
   ],
   "source": [
    "phrase_1='fdcj'\n",
    "phrase_2='lkjl'\n",
    "if len(phrase_1)>len(phrase_2):\n",
    "    print('Фраза 1 длиннее фразы 2')\n",
    "elif len(phrase_1)<len(phrase_2): \n",
    "    print('Фраза 2 длиннее фразы 1')\n",
    "else: print('Фразы равной длины')"
   ]
  },
  {
   "cell_type": "code",
   "execution_count": 4,
   "metadata": {},
   "outputs": [
    {
     "name": "stdout",
     "output_type": "stream",
     "text": [
      "Обычный год\n"
     ]
    }
   ],
   "source": [
    "year=2019\n",
    "if year%4==0:\n",
    "    print('Високосный год')\n",
    "else:\n",
    "    print('Обычный год')\n"
   ]
  },
  {
   "cell_type": "code",
   "execution_count": 5,
   "metadata": {},
   "outputs": [
    {
     "name": "stdout",
     "output_type": "stream",
     "text": [
      "Введите день рождения:23\n",
      "Введите месяц рождения:январь\n",
      "Ваш знак зодиака Водолей\n"
     ]
    }
   ],
   "source": [
    "user_day=int(input('Введите день рождения:'))\n",
    "user_month=(input('Введите месяц рождения:'))\n",
    "if user_month=='Январь' or user_month=='январь' :\n",
    "    if user_day<20:\n",
    "        print('Ваш знак зодиака Козерог')\n",
    "    else: \n",
    "        print('Ваш знак зодиака Водолей')\n",
    "elif user_month=='Февраль' or user_month=='февраль' :\n",
    "    if user_day<19:\n",
    "        print('Ваш знак зодиака Водолей')\n",
    "    else: \n",
    "        print('Ваш знак зодиака Рыба')\n",
    "elif user_month=='Март' or user_month=='март' :\n",
    "    if user_day<21:\n",
    "        print('Ваш знак зодиака Рыба')\n",
    "    else: \n",
    "        print('Ваш знак зодиака Овен')\n",
    "elif user_month=='Апрель' or user_month=='апрель' :\n",
    "    if user_day<20:\n",
    "        print('Ваш знак зодиака Овен')\n",
    "    else: \n",
    "        print('Ваш знак зодиака Телец')\n",
    "elif user_month=='май' or user_month=='Май' :\n",
    "    if user_day<21:\n",
    "        print('Ваш знак зодиака Телец')\n",
    "    else: \n",
    "        print('Ваш знак зодиака Близнецы')\n",
    "elif user_month=='июнь' or user_month=='Июнь' :\n",
    "    if user_day<21:\n",
    "        print('Ваш знак зодиака Близнецы')\n",
    "    else: \n",
    "        print('Ваш знак зодиака Рак')"
   ]
  },
  {
   "cell_type": "code",
   "execution_count": 6,
   "metadata": {},
   "outputs": [
    {
     "name": "stdout",
     "output_type": "stream",
     "text": [
      "Введите ширину:21\n",
      "Введите длину:1\n",
      "Введите высоту:2\n",
      "коробка №2\n"
     ]
    }
   ],
   "source": [
    "width = int(input('Введите ширину:'))\n",
    "length = int(input('Введите длину:'))\n",
    "height = int(input('Введите высоту:'))\n",
    "if width<15 and length<15 and height<15:\n",
    "    print('коробка №1')\n",
    "elif (width>=15 and width<50) or (length>=15 and length<50) or (height>=15 and height<50):\n",
    "    print('коробка №2')\n",
    "elif length>200:\n",
    "    print('Упаковка для лыж')  \n",
    "else:\n",
    "    print('Стандартная коробка №3')"
   ]
  },
  {
   "cell_type": "code",
   "execution_count": 7,
   "metadata": {},
   "outputs": [
    {
     "name": "stdout",
     "output_type": "stream",
     "text": [
      "Введите 6-значное число:234432\n",
      "Счастливый билет\n"
     ]
    }
   ],
   "source": [
    "num = int(input('Введите 6-значное число:'))\n",
    "a=int((num-num % 100000)/100000)\n",
    "b1=num-a*100000\n",
    "b2=int((b1-b1 % 10000)/10000)\n",
    "c1=b1-b2*10000\n",
    "c2=int((c1-c1 % 1000)/1000)\n",
    "d1=c1-c2*1000\n",
    "d2=int((d1-d1 % 100)/100)\n",
    "e1=d1-d2*100\n",
    "e2=int((e1-e1 % 10)/10)\n",
    "f=e1-e2*10\n",
    "if a+b2+c2==d2+e2+f:\n",
    "    print('Счастливый билет')\n",
    "else:\n",
    "    print('Несчастливый билет')"
   ]
  }
 ],
 "metadata": {
  "kernelspec": {
   "display_name": "Python 3",
   "language": "python",
   "name": "python3"
  },
  "language_info": {
   "codemirror_mode": {
    "name": "ipython",
    "version": 3
   },
   "file_extension": ".py",
   "mimetype": "text/x-python",
   "name": "python",
   "nbconvert_exporter": "python",
   "pygments_lexer": "ipython3",
   "version": "3.8.5"
  }
 },
 "nbformat": 4,
 "nbformat_minor": 4
}
